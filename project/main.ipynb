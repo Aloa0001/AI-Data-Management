{
 "cells": [
  {
   "cell_type": "markdown",
   "metadata": {},
   "source": [
    "# Cognitive Load and Wearable Integration Analysis\n"
   ]
  },
  {
   "cell_type": "markdown",
   "metadata": {},
   "source": [
    "## Files and Data Relationship Description\n"
   ]
  },
  {
   "cell_type": "code",
   "execution_count": null,
   "metadata": {},
   "outputs": [],
   "source": [
    "data_type = [\"time\", \"bvp\", \"eda\", \"temp\", \"eeg\"]\n",
    "files_type = [\n",
    "    [\"empatica_bvp\", \"empatice_eda\", \"empatica_temp\", \"muse_eeg\", \"samsung_bvp\"],\n",
    "    [\"empatica_bvp\", \"samsung_bvp\"],\n",
    "    [\"empatica_eda\"],\n",
    "    [\"empatica_temp\"],\n",
    "    [\"muse_eeg\"],\n",
    "]"
   ]
  }
 ],
 "metadata": {
  "kernelspec": {
   "display_name": "base",
   "language": "python",
   "name": "python3"
  },
  "language_info": {
   "codemirror_mode": {
    "name": "ipython",
    "version": 3
   },
   "file_extension": ".py",
   "mimetype": "text/x-python",
   "name": "python",
   "nbconvert_exporter": "python",
   "pygments_lexer": "ipython3",
   "version": "3.11.4"
  }
 },
 "nbformat": 4,
 "nbformat_minor": 2
}
